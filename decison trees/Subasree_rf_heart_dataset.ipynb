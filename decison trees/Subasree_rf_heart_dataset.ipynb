{
 "cells": [
  {
   "cell_type": "code",
   "execution_count": 19,
   "metadata": {},
   "outputs": [],
   "source": [
    "import numpy as np\n",
    "import matplotlib.pyplot as plt\n",
    "import seaborn as sns\n",
    "import pandas as pd\n",
    "import matplotlib.pylab as pylab\n",
    "from sklearn.ensemble import RandomForestClassifier\n",
    "from sklearn.model_selection import train_test_split\n",
    "from sklearn.model_selection import GridSearchCV\n",
    "from sklearn.metrics import confusion_matrix,accuracy_score\n",
    "from operator import itemgetter\n",
    "from sklearn.ensemble import RandomForestClassifier\n",
    "from sklearn.tree import DecisionTreeClassifier\n",
    "from sklearn.ensemble import AdaBoostClassifier\n",
    "from sklearn.ensemble import GradientBoostingClassifier\n",
    "from sklearn.pipeline import Pipeline\n",
    "from sklearn.feature_selection import SelectKBest\n",
    "from sklearn.feature_selection import chi2\n",
    "from sklearn.preprocessing import StandardScaler"
   ]
  },
  {
   "cell_type": "code",
   "execution_count": 20,
   "metadata": {},
   "outputs": [
    {
     "data": {
      "text/html": [
       "<div>\n",
       "<style scoped>\n",
       "    .dataframe tbody tr th:only-of-type {\n",
       "        vertical-align: middle;\n",
       "    }\n",
       "\n",
       "    .dataframe tbody tr th {\n",
       "        vertical-align: top;\n",
       "    }\n",
       "\n",
       "    .dataframe thead th {\n",
       "        text-align: right;\n",
       "    }\n",
       "</style>\n",
       "<table border=\"1\" class=\"dataframe\">\n",
       "  <thead>\n",
       "    <tr style=\"text-align: right;\">\n",
       "      <th></th>\n",
       "      <th>age</th>\n",
       "      <th>sex</th>\n",
       "      <th>chol</th>\n",
       "      <th>thalach</th>\n",
       "      <th>oldpeak</th>\n",
       "      <th>ca</th>\n",
       "      <th>thal</th>\n",
       "      <th>target</th>\n",
       "    </tr>\n",
       "  </thead>\n",
       "  <tbody>\n",
       "    <tr>\n",
       "      <th>0</th>\n",
       "      <td>63</td>\n",
       "      <td>male</td>\n",
       "      <td>233</td>\n",
       "      <td>150</td>\n",
       "      <td>2.3</td>\n",
       "      <td>0</td>\n",
       "      <td>defect</td>\n",
       "      <td>no</td>\n",
       "    </tr>\n",
       "    <tr>\n",
       "      <th>1</th>\n",
       "      <td>37</td>\n",
       "      <td>male</td>\n",
       "      <td>250</td>\n",
       "      <td>187</td>\n",
       "      <td>3.5</td>\n",
       "      <td>0</td>\n",
       "      <td>normal</td>\n",
       "      <td>no</td>\n",
       "    </tr>\n",
       "    <tr>\n",
       "      <th>2</th>\n",
       "      <td>41</td>\n",
       "      <td>female</td>\n",
       "      <td>204</td>\n",
       "      <td>172</td>\n",
       "      <td>1.4</td>\n",
       "      <td>0</td>\n",
       "      <td>normal</td>\n",
       "      <td>no</td>\n",
       "    </tr>\n",
       "    <tr>\n",
       "      <th>3</th>\n",
       "      <td>56</td>\n",
       "      <td>male</td>\n",
       "      <td>236</td>\n",
       "      <td>178</td>\n",
       "      <td>0.8</td>\n",
       "      <td>0</td>\n",
       "      <td>normal</td>\n",
       "      <td>no</td>\n",
       "    </tr>\n",
       "    <tr>\n",
       "      <th>4</th>\n",
       "      <td>57</td>\n",
       "      <td>female</td>\n",
       "      <td>354</td>\n",
       "      <td>163</td>\n",
       "      <td>0.6</td>\n",
       "      <td>0</td>\n",
       "      <td>normal</td>\n",
       "      <td>no</td>\n",
       "    </tr>\n",
       "  </tbody>\n",
       "</table>\n",
       "</div>"
      ],
      "text/plain": [
       "   age     sex  chol  thalach  oldpeak  ca    thal target\n",
       "0   63    male   233      150      2.3   0  defect     no\n",
       "1   37    male   250      187      3.5   0  normal     no\n",
       "2   41  female   204      172      1.4   0  normal     no\n",
       "3   56    male   236      178      0.8   0  normal     no\n",
       "4   57  female   354      163      0.6   0  normal     no"
      ]
     },
     "execution_count": 20,
     "metadata": {},
     "output_type": "execute_result"
    }
   ],
   "source": [
    "df = pd.read_table('/Users/subasrees/Desktop/Omics-analysis/intro-machine-learning-training/exam/heartData_simplified.csv',sep=',')\n",
    "df.head()"
   ]
  },
  {
   "cell_type": "code",
   "execution_count": 21,
   "metadata": {},
   "outputs": [],
   "source": [
    "df['thal'] = df['thal'].astype(pd.CategoricalDtype(categories=[\"normal\", \"reversible\", \"defect\"],ordered=True))\n",
    "\n",
    "# get dummies will transform these categorical columns to sets of 0/1 columns\n",
    "df = pd.get_dummies( df , drop_first=True )"
   ]
  },
  {
   "cell_type": "code",
   "execution_count": 22,
   "metadata": {},
   "outputs": [],
   "source": [
    "X_diabetes=df.iloc[:,:len(df.columns)-1]\n",
    "y_diabetes=df.target_yes"
   ]
  },
  {
   "cell_type": "code",
   "execution_count": 23,
   "metadata": {},
   "outputs": [
    {
     "name": "stdout",
     "output_type": "stream",
     "text": [
      "number of samples:\n",
      "\tfull  dataset: 296\n",
      "\ttrain dataset: 222\n",
      "\ttest  dataset: 74\n",
      "\n",
      "proportion of diabtes:\n",
      "\tfull  dataset: 0.459\n",
      "\ttrain dataset: 0.459\n",
      "\ttest  dataset: 0.459\n"
     ]
    }
   ],
   "source": [
    "from sklearn.model_selection import train_test_split\n",
    "\n",
    "#default if 75% training, 25% testing\n",
    "X_diabetes_train, X_diabetes_test, y_diabetes_train, y_diabetes_test = train_test_split(X_diabetes, \n",
    "                                                                                y_diabetes,\n",
    "                                                                                random_state=7,\n",
    "                                                                                stratify=y_diabetes) \n",
    "\n",
    "print(\"number of samples:\")\n",
    "print( f\"\\tfull  dataset: {len(y_diabetes)}\" )\n",
    "print( f\"\\ttrain dataset: {len(y_diabetes_train)}\" )\n",
    "print( f\"\\ttest  dataset: {len(y_diabetes_test)}\" )\n",
    "\n",
    "\n",
    "# train_test_split stratify make sure to split the data such \n",
    "# that the two partitions have similar proportion of each target classes\n",
    "print(\"\\nproportion of diabtes:\")\n",
    "print( f\"\\tfull  dataset: {y_diabetes.mean():.3f}\" )\n",
    "print( f\"\\ttrain dataset: {y_diabetes_train.mean():.3f}\" )\n",
    "print( f\"\\ttest  dataset: {y_diabetes_test.mean():.3f}\" )"
   ]
  },
  {
   "cell_type": "code",
   "execution_count": 24,
   "metadata": {},
   "outputs": [],
   "source": [
    "## first we split in train and valid\n",
    "X_train, X_valid, y_train, y_valid = train_test_split(X_diabetes_train, \n",
    "                                                      y_diabetes_train,\n",
    "                                                      random_state=13245,\n",
    "                                                      test_size=0.3,\n",
    "                                                      stratify=y_diabetes_train) \n",
    "\n",
    "## scaling \n",
    "scaler = StandardScaler()\n",
    "X_train_norm = scaler.fit_transform(X_train)\n",
    "X_valid_norm = scaler.fit_transform(X_valid)"
   ]
  },
  {
   "cell_type": "code",
   "execution_count": 26,
   "metadata": {},
   "outputs": [
    {
     "name": "stdout",
     "output_type": "stream",
     "text": [
      "Grid best score (roc_auc_ovr_weighted): 0.879\n",
      "Grid best parameter (max. roc_auc_ovr_weighted): \n",
      "\t criterion -> entropy\n",
      "\t max_depth -> 6\n",
      "\t min_samples_leaf -> 10\n",
      "\t min_samples_split -> 50\n",
      "\t n_estimators -> 75\n"
     ]
    }
   ],
   "source": [
    "from sklearn.metrics import confusion_matrix,accuracy_score\n",
    "grid_values = {'criterion': ['entropy','gini'],\n",
    "               'n_estimators':[25,50,75,100], \n",
    "               'max_depth':[2,6],\n",
    "               'min_samples_split':[10,50],\n",
    "              'min_samples_leaf':[10,20]}\n",
    "\n",
    "grid_rf_roc_auc = GridSearchCV(RandomForestClassifier(n_jobs=-1,class_weight='balanced'), \n",
    "                             param_grid = grid_values, \n",
    "                             scoring='roc_auc_ovr_weighted',n_jobs=-1)\n",
    "\n",
    "grid_rf_roc_auc.fit(X_train_norm, y_train)\n",
    "\n",
    "y_decision_fn_scores_roc_auc=grid_rf_roc_auc.score(X_valid_norm, y_valid)\n",
    "\n",
    "\n",
    "print(f'Grid best score (roc_auc_ovr_weighted): {grid_rf_roc_auc.best_score_:.3f}')\n",
    "print('Grid best parameter (max. roc_auc_ovr_weighted): ')\n",
    "for k,v in grid_rf_roc_auc.best_params_.items():\n",
    "    print('\\t',k,'->',v)"
   ]
  },
  {
   "cell_type": "code",
   "execution_count": 27,
   "metadata": {},
   "outputs": [
    {
     "data": {
      "text/plain": [
       "Text(0.5, 14.722222222222216, 'Predicted label')"
      ]
     },
     "execution_count": 27,
     "metadata": {},
     "output_type": "execute_result"
    },
    {
     "data": {
      "image/png": "[encoded data removed]",
      "text/plain": [
       "<Figure size 550x400 with 2 Axes>"
      ]
     },
     "metadata": {},
     "output_type": "display_data"
    }
   ],
   "source": [
    "## predicting the labels on the test set    \n",
    "y_pred_test_diabetes=grid_rf_roc_auc.predict(X_valid_norm)\n",
    "\n",
    "confusion_m_cancer = confusion_matrix(y_valid, y_pred_test_diabetes)\n",
    "\n",
    "plt.figure(figsize=(5.5,4))\n",
    "sns.heatmap(confusion_m_cancer, annot=True , \n",
    "            xticklabels=['Diabetes','Nil'], \n",
    "            yticklabels=['Diabetes','Nil'])\n",
    "plt.title('test {} : {:.3f}'.format( \"accuracy\" , \n",
    "                                    accuracy_score(y_valid,y_pred_test_diabetes)  ))\n",
    "plt.ylabel('True label')\n",
    "plt.xlabel('Predicted label')\n",
    "\n"
   ]
  },
  {
   "cell_type": "code",
   "execution_count": 28,
   "metadata": {},
   "outputs": [
    {
     "name": "stdout",
     "output_type": "stream",
     "text": [
      "Features sorted per importance:\n"
     ]
    },
    {
     "data": {
      "text/html": [
       "<div>\n",
       "<style scoped>\n",
       "    .dataframe tbody tr th:only-of-type {\n",
       "        vertical-align: middle;\n",
       "    }\n",
       "\n",
       "    .dataframe tbody tr th {\n",
       "        vertical-align: top;\n",
       "    }\n",
       "\n",
       "    .dataframe thead th {\n",
       "        text-align: right;\n",
       "    }\n",
       "</style>\n",
       "<table border=\"1\" class=\"dataframe\">\n",
       "  <thead>\n",
       "    <tr style=\"text-align: right;\">\n",
       "      <th></th>\n",
       "      <th>feature</th>\n",
       "      <th>weight</th>\n",
       "    </tr>\n",
       "  </thead>\n",
       "  <tbody>\n",
       "    <tr>\n",
       "      <th>2</th>\n",
       "      <td>thalach</td>\n",
       "      <td>0.250536</td>\n",
       "    </tr>\n",
       "    <tr>\n",
       "      <th>3</th>\n",
       "      <td>oldpeak</td>\n",
       "      <td>0.212271</td>\n",
       "    </tr>\n",
       "    <tr>\n",
       "      <th>4</th>\n",
       "      <td>ca</td>\n",
       "      <td>0.210326</td>\n",
       "    </tr>\n",
       "    <tr>\n",
       "      <th>6</th>\n",
       "      <td>thal_reversible</td>\n",
       "      <td>0.147481</td>\n",
       "    </tr>\n",
       "    <tr>\n",
       "      <th>0</th>\n",
       "      <td>age</td>\n",
       "      <td>0.143515</td>\n",
       "    </tr>\n",
       "    <tr>\n",
       "      <th>5</th>\n",
       "      <td>sex_male</td>\n",
       "      <td>0.025618</td>\n",
       "    </tr>\n",
       "    <tr>\n",
       "      <th>1</th>\n",
       "      <td>chol</td>\n",
       "      <td>0.010253</td>\n",
       "    </tr>\n",
       "  </tbody>\n",
       "</table>\n",
       "</div>"
      ],
      "text/plain": [
       "           feature    weight\n",
       "2          thalach  0.250536\n",
       "3          oldpeak  0.212271\n",
       "4               ca  0.210326\n",
       "6  thal_reversible  0.147481\n",
       "0              age  0.143515\n",
       "5         sex_male  0.025618\n",
       "1             chol  0.010253"
      ]
     },
     "execution_count": 28,
     "metadata": {},
     "output_type": "execute_result"
    }
   ],
   "source": [
    "RF = grid_rf_roc_auc.best_estimator_\n",
    "\n",
    "w=RF.feature_importances_#get the weights\n",
    "\n",
    "featureW = pd.DataFrame( {'feature': X_diabetes.columns,'weight':w} )\n",
    "\n",
    "# sort them by absolute value\n",
    "featureWsorted = featureW.sort_values(by=['weight'] , \n",
    "                                      ascending=False , \n",
    "                                      key=lambda col : col.abs())\n",
    "\n",
    "# get the non-null ones\n",
    "print('Features sorted per importance:')\n",
    "featureWsorted.loc[ featureWsorted[\"weight\"] !=0 ]"
   ]
  },
  {
   "cell_type": "code",
   "execution_count": 36,
   "metadata": {},
   "outputs": [],
   "source": [
    "df_diabetes_remove=df.drop(['sex_male','chol'],axis=1)"
   ]
  },
  {
   "cell_type": "code",
   "execution_count": 37,
   "metadata": {},
   "outputs": [],
   "source": [
    "X_diabetes_remove=df_diabetes_remove.iloc[:,:len(df_diabetes_remove.columns)-1]\n",
    "y_diabetes_remove=df_diabetes_remove.target_yes"
   ]
  },
  {
   "cell_type": "code",
   "execution_count": 38,
   "metadata": {},
   "outputs": [
    {
     "name": "stdout",
     "output_type": "stream",
     "text": [
      "number of samples:\n",
      "\tfull  dataset: 296\n",
      "\ttrain dataset: 222\n",
      "\ttest  dataset: 74\n",
      "\n",
      "proportion of diabtes:\n",
      "\tfull  dataset: 0.459\n",
      "\ttrain dataset: 0.459\n",
      "\ttest  dataset: 0.459\n"
     ]
    }
   ],
   "source": [
    "from sklearn.model_selection import train_test_split\n",
    "\n",
    "#default if 75% training, 25% testing\n",
    "X_diabetes_train_remove, X_diabetes_test_remove, y_diabetes_train_remove, y_diabetes_test_remove, = train_test_split(X_diabetes_remove, \n",
    "                                                                                y_diabetes_remove,\n",
    "                                                                                random_state=7,\n",
    "                                                                                stratify=y_diabetes_remove) \n",
    "\n",
    "print(\"number of samples:\")\n",
    "print( f\"\\tfull  dataset: {len(y_diabetes_remove)}\" )\n",
    "print( f\"\\ttrain dataset: {len(y_diabetes_train_remove)}\" )\n",
    "print( f\"\\ttest  dataset: {len(y_diabetes_test_remove,)}\" )\n",
    "\n",
    "\n",
    "# train_test_split stratify make sure to split the data such \n",
    "# that the two partitions have similar proportion of each target classes\n",
    "print(\"\\nproportion of diabtes:\")\n",
    "print( f\"\\tfull  dataset: {y_diabetes_remove.mean():.3f}\" )\n",
    "print( f\"\\ttrain dataset: {y_diabetes_train_remove.mean():.3f}\" )\n",
    "print( f\"\\ttest  dataset: {y_diabetes_test_remove.mean():.3f}\" )\n",
    "\n"
   ]
  },
  {
   "cell_type": "code",
   "execution_count": 39,
   "metadata": {},
   "outputs": [],
   "source": [
    "## first we split in train and valid\n",
    "X_train_remove, X_valid_remove, y_train_remove, y_valid_remove = train_test_split(X_diabetes_remove, \n",
    "                                                      y_diabetes_remove,\n",
    "                                                      random_state=13245,\n",
    "                                                      test_size=0.3,\n",
    "                                                      stratify=y_diabetes_remove) \n",
    "\n",
    "## scaling \n",
    "scaler = StandardScaler()\n",
    "X_train_norm_remove = scaler.fit_transform(X_train_remove)\n",
    "X_valid_norm_remove = scaler.fit_transform(X_valid_remove)"
   ]
  },
  {
   "cell_type": "code",
   "execution_count": 40,
   "metadata": {},
   "outputs": [
    {
     "name": "stdout",
     "output_type": "stream",
     "text": [
      "Grid best score (roc_auc_ovr_weighted): 0.892\n",
      "Grid best parameter (max. roc_auc_ovr_weighted): \n",
      "\t criterion -> entropy\n",
      "\t max_depth -> 6\n",
      "\t min_samples_leaf -> 10\n",
      "\t min_samples_split -> 50\n",
      "\t n_estimators -> 75\n"
     ]
    }
   ],
   "source": [
    "from sklearn.metrics import confusion_matrix,accuracy_score\n",
    "grid_values = {'criterion': ['entropy','gini'],\n",
    "               'n_estimators':[25,50,75,100], \n",
    "               'max_depth':[2,6],\n",
    "               'min_samples_split':[10,50],\n",
    "              'min_samples_leaf':[10,20]}\n",
    "\n",
    "grid_rf_roc_auc = GridSearchCV(RandomForestClassifier(n_jobs=-1,class_weight='balanced'), \n",
    "                             param_grid = grid_values, \n",
    "                             scoring='roc_auc_ovr_weighted',n_jobs=-1)\n",
    "\n",
    "grid_rf_roc_auc.fit(X_train_norm_remove, y_train_remove)\n",
    "\n",
    "y_decision_fn_scores_roc_auc=grid_rf_roc_auc.score(X_valid_norm_remove, y_valid_remove)\n",
    "\n",
    "\n",
    "print(f'Grid best score (roc_auc_ovr_weighted): {grid_rf_roc_auc.best_score_:.3f}')\n",
    "print('Grid best parameter (max. roc_auc_ovr_weighted): ')\n",
    "for k,v in grid_rf_roc_auc.best_params_.items():\n",
    "    print('\\t',k,'->',v)"
   ]
  },
  {
   "cell_type": "code",
   "execution_count": 41,
   "metadata": {},
   "outputs": [
    {
     "data": {
      "text/plain": [
       "Text(0.5, 14.722222222222216, 'Predicted label')"
      ]
     },
     "execution_count": 41,
     "metadata": {},
     "output_type": "execute_result"
    },
    {
     "data": {
      "image/png": "[encoded data removed]",
      "text/plain": [
       "<Figure size 550x400 with 2 Axes>"
      ]
     },
     "metadata": {},
     "output_type": "display_data"
    }
   ],
   "source": [
    "## predicting the labels on the test set    \n",
    "y_pred_test_diabetes_remove=grid_rf_roc_auc.predict(X_valid_norm_remove)\n",
    "\n",
    "confusion_m_cancer = confusion_matrix(y_valid_remove, y_pred_test_diabetes_remove)\n",
    "\n",
    "plt.figure(figsize=(5.5,4))\n",
    "sns.heatmap(confusion_m_cancer, annot=True , \n",
    "            xticklabels=['Diabetes','Nil'], \n",
    "            yticklabels=['Diabetes','Nil'])\n",
    "plt.title('test {} : {:.3f}'.format( \"accuracy\" , \n",
    "                                    accuracy_score(y_valid_remove,y_pred_test_diabetes_remove)  ))\n",
    "plt.ylabel('True label')\n",
    "plt.xlabel('Predicted label')\n",
    "\n"
   ]
  },
  {
   "cell_type": "code",
   "execution_count": 42,
   "metadata": {},
   "outputs": [
    {
     "name": "stdout",
     "output_type": "stream",
     "text": [
      "Features sorted per importance:\n"
     ]
    },
    {
     "data": {
      "text/html": [
       "<div>\n",
       "<style scoped>\n",
       "    .dataframe tbody tr th:only-of-type {\n",
       "        vertical-align: middle;\n",
       "    }\n",
       "\n",
       "    .dataframe tbody tr th {\n",
       "        vertical-align: top;\n",
       "    }\n",
       "\n",
       "    .dataframe thead th {\n",
       "        text-align: right;\n",
       "    }\n",
       "</style>\n",
       "<table border=\"1\" class=\"dataframe\">\n",
       "  <thead>\n",
       "    <tr style=\"text-align: right;\">\n",
       "      <th></th>\n",
       "      <th>feature</th>\n",
       "      <th>weight</th>\n",
       "    </tr>\n",
       "  </thead>\n",
       "  <tbody>\n",
       "    <tr>\n",
       "      <th>3</th>\n",
       "      <td>ca</td>\n",
       "      <td>0.283561</td>\n",
       "    </tr>\n",
       "    <tr>\n",
       "      <th>1</th>\n",
       "      <td>thalach</td>\n",
       "      <td>0.246795</td>\n",
       "    </tr>\n",
       "    <tr>\n",
       "      <th>4</th>\n",
       "      <td>thal_reversible</td>\n",
       "      <td>0.242036</td>\n",
       "    </tr>\n",
       "    <tr>\n",
       "      <th>2</th>\n",
       "      <td>oldpeak</td>\n",
       "      <td>0.134913</td>\n",
       "    </tr>\n",
       "    <tr>\n",
       "      <th>0</th>\n",
       "      <td>age</td>\n",
       "      <td>0.088226</td>\n",
       "    </tr>\n",
       "    <tr>\n",
       "      <th>5</th>\n",
       "      <td>thal_defect</td>\n",
       "      <td>0.004469</td>\n",
       "    </tr>\n",
       "  </tbody>\n",
       "</table>\n",
       "</div>"
      ],
      "text/plain": [
       "           feature    weight\n",
       "3               ca  0.283561\n",
       "1          thalach  0.246795\n",
       "4  thal_reversible  0.242036\n",
       "2          oldpeak  0.134913\n",
       "0              age  0.088226\n",
       "5      thal_defect  0.004469"
      ]
     },
     "execution_count": 42,
     "metadata": {},
     "output_type": "execute_result"
    }
   ],
   "source": [
    "RF = grid_rf_roc_auc.best_estimator_\n",
    "\n",
    "w=RF.feature_importances_#get the weights\n",
    "\n",
    "featureW = pd.DataFrame( {'feature': X_diabetes_remove.columns,'weight':w} )\n",
    "\n",
    "# sort them by absolute value\n",
    "featureWsorted = featureW.sort_values(by=['weight'] , \n",
    "                                      ascending=False , \n",
    "                                      key=lambda col : col.abs())\n",
    "\n",
    "# get the non-null ones\n",
    "print('Features sorted per importance:')\n",
    "featureWsorted.loc[ featureWsorted[\"weight\"] !=0 ]"
   ]
  }
 ],
 "metadata": {
  "kernelspec": {
   "display_name": "introML",
   "language": "python",
   "name": "python3"
  },
  "language_info": {
   "codemirror_mode": {
    "name": "ipython",
    "version": 3
   },
   "file_extension": ".py",
   "mimetype": "text/x-python",
   "name": "python",
   "nbconvert_exporter": "python",
   "pygments_lexer": "ipython3",
   "version": "3.11.11"
  },
  "orig_nbformat": 4
 },
 "nbformat": 4,
 "nbformat_minor": 2
}
